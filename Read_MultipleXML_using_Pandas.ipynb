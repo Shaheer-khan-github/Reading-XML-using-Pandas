{
  "nbformat": 4,
  "nbformat_minor": 0,
  "metadata": {
    "colab": {
      "name": "Read_MultipleXML_using_Pandas.ipynb",
      "provenance": [],
      "toc_visible": true
    },
    "kernelspec": {
      "name": "python3",
      "display_name": "Python 3"
    },
    "language_info": {
      "name": "python"
    }
  },
  "cells": [
    {
      "cell_type": "markdown",
      "source": [
        "### Reading All Files"
      ],
      "metadata": {
        "id": "F9pBKeUPZpjy"
      }
    },
    {
      "cell_type": "code",
      "source": [
        "import pandas as pd\n",
        "# import OS module\n",
        "import os\n",
        " \n",
        "# Get the list of all files and directories\n",
        "path = \"/content/\"\n",
        "dir_list = os.listdir(path)\n",
        " \n",
        "print(\"Files and directories in '\", path, \"' :\")\n",
        " \n",
        "# prints all files\n",
        "print(dir_list)"
      ],
      "metadata": {
        "id": "K6r_jvYXRpuM"
      },
      "execution_count": null,
      "outputs": []
    },
    {
      "cell_type": "markdown",
      "source": [
        "#### Rename just XML files"
      ],
      "metadata": {
        "id": "UdFtjLE0ZSI5"
      }
    },
    {
      "cell_type": "code",
      "source": [
        "i=1\n",
        "for files in dir_list:\n",
        "  if files.endswith(\".xml\"):\n",
        "    print(files)\n",
        "    os.rename(files,str(i) + '.xml')\n",
        "    i+=1  "
      ],
      "metadata": {
        "colab": {
          "base_uri": "https://localhost:8080/"
        },
        "id": "ywarisj4UMVA",
        "outputId": "309951df-a432-4d18-fa3f-ff8b1ae5f227"
      },
      "execution_count": null,
      "outputs": [
        {
          "output_type": "stream",
          "name": "stdout",
          "text": [
            "Screenshot from 2021-10-25 23-45-59.xml\n",
            "Screenshot from 2021-10-25 23-40-30.xml\n",
            "Screenshot from 2021-10-25 23-38-09.xml\n",
            "Screenshot from 2021-12-12 13-33-45.xml\n",
            "Screenshot from 2021-10-25 23-43-14.xml\n",
            "Screenshot from 2021-10-25 23-34-05.xml\n",
            "Screenshot from 2021-10-25 23-39-47.xml\n",
            "Screenshot from 2021-12-12 13-35-06.xml\n",
            "Screenshot from 2021-10-25 23-33-43.xml\n",
            "Screenshot from 2021-12-12 13-34-32.xml\n",
            "Screenshot from 2021-10-25 23-28-13.xml\n",
            "Screenshot from 2021-10-25 23-45-18.xml\n",
            "Screenshot from 2021-10-25 23-47-50.xml\n",
            "Screenshot from 2021-12-12 13-34-22.xml\n",
            "Screenshot from 2021-10-25 23-48-15.xml\n",
            "Screenshot from 2021-10-25 23-46-30.xml\n",
            "Screenshot from 2021-12-12 13-31-12.xml\n",
            "Screenshot from 2021-12-12 13-35-43.xml\n",
            "Screenshot from 2021-10-25 23-29-15.xml\n",
            "Screenshot from 2021-10-25 23-30-37.xml\n",
            "Screenshot from 2021-10-25 23-42-25.xml\n",
            "Screenshot from 2021-10-25 23-46-20.xml\n",
            "Screenshot from 2021-12-12 13-32-30.xml\n",
            "Screenshot from 2021-10-25 23-27-42.xml\n",
            "Screenshot from 2021-10-25 23-40-14.xml\n",
            "Screenshot from 2021-10-25 23-35-16.xml\n",
            "Screenshot from 2021-10-25 23-44-16.xml\n",
            "Screenshot from 2021-10-26 17-56-08.xml\n",
            "Screenshot from 2021-10-25 23-39-35.xml\n",
            "Screenshot from 2021-12-12 13-30-47.xml\n",
            "Screenshot from 2021-10-26 18-05-20.xml\n",
            "Screenshot from 2021-10-25 23-48-23.xml\n",
            "Screenshot from 2021-10-25 23-46-42.xml\n",
            "Screenshot from 2021-12-12 13-29-05.xml\n",
            "Screenshot from 2021-10-25 23-46-57.xml\n",
            "Screenshot from 2021-10-25 23-36-43.xml\n",
            "Screenshot from 2021-10-25 23-30-25.xml\n",
            "Screenshot from 2021-10-26 18-04-11.xml\n",
            "Screenshot from 2021-10-25 23-34-16.xml\n",
            "Screenshot from 2021-10-25 23-38-23.xml\n",
            "Screenshot from 2021-10-25 23-39-02.xml\n",
            "Screenshot from 2021-10-25 23-41-37.xml\n",
            "Screenshot from 2021-10-26 18-03-10.xml\n",
            "Screenshot from 2021-10-25 23-30-11.xml\n",
            "Screenshot from 2021-12-12 13-29-35.xml\n",
            "Screenshot from 2021-10-25 23-33-54.xml\n",
            "Screenshot from 2021-10-26 18-03-28.xml\n",
            "Screenshot from 2021-10-25 23-35-57.xml\n",
            "Screenshot from 2021-12-12 13-29-51.xml\n",
            "Screenshot from 2021-10-25 23-33-12.xml\n",
            "Screenshot from 2021-12-12 13-35-19.xml\n",
            "Screenshot from 2021-10-26 18-03-58.xml\n",
            "Screenshot from 2021-10-25 23-48-06.xml\n",
            "Screenshot from 2021-10-25 23-28-01.xml\n",
            "Screenshot from 2021-10-25 23-28-38.xml\n",
            "Screenshot from 2021-10-25 23-43-55.xml\n",
            "Screenshot from 2021-12-12 13-28-27.xml\n",
            "Screenshot from 2021-10-25 23-48-36.xml\n",
            "Screenshot from 2021-10-25 23-47-20.xml\n",
            "Screenshot from 2021-10-26 18-03-42.xml\n",
            "Screenshot from 2021-12-12 13-32-53.xml\n",
            "Screenshot from 2021-10-25 23-35-27.xml\n",
            "Screenshot from 2021-10-25 23-27-16.xml\n",
            "Screenshot from 2021-12-12 13-37-27.xml\n",
            "Screenshot from 2021-10-26 18-04-28.xml\n",
            "Screenshot from 2021-12-12 13-30-34.xml\n",
            "Screenshot from 2021-10-25 23-29-05.xml\n",
            "Screenshot from 2021-10-25 23-30-53.xml\n",
            "Screenshot from 2021-12-12 13-27-59.xml\n",
            "Screenshot from 2021-12-12 13-30-58.xml\n",
            "Screenshot from 2021-12-12 13-34-42.xml\n",
            "Screenshot from 2021-10-25 23-41-27.xml\n",
            "Screenshot from 2021-12-12 13-38-43.xml\n",
            "Screenshot from 2021-10-25 23-25-40.xml\n",
            "Screenshot from 2021-10-25 23-48-58.xml\n",
            "Screenshot from 2021-10-25 23-41-15.xml\n",
            "Screenshot from 2021-12-12 13-28-52.xml\n",
            "Screenshot from 2021-10-26 18-05-48.xml\n",
            "Screenshot from 2021-10-25 23-33-32.xml\n",
            "Screenshot from 2021-12-12 13-35-31.xml\n",
            "Screenshot from 2021-10-25 23-40-52.xml\n",
            "Screenshot from 2021-10-25 23-28-48.xml\n",
            "Screenshot from 2021-12-12 13-36-05.xml\n",
            "Screenshot from 2021-12-12 13-29-21.xml\n",
            "Screenshot from 2021-10-25 23-34-53.xml\n",
            "Screenshot from 2021-10-25 23-26-19.xml\n",
            "Screenshot from 2021-10-25 23-34-28.xml\n",
            "Screenshot from 2021-10-25 23-37-16.xml\n",
            "Screenshot from 2021-10-25 23-48-46.xml\n",
            "Screenshot from 2021-12-12 13-33-03.xml\n",
            "Screenshot from 2021-10-25 23-43-38.xml\n",
            "Screenshot from 2021-12-12 13-33-17.xml\n",
            "Screenshot from 2021-10-25 23-37-03.xml\n",
            "Screenshot from 2021-12-12 13-30-04.xml\n",
            "Screenshot from 2021-12-12 13-35-56.xml\n",
            "Screenshot from 2021-12-12 13-34-11.xml\n",
            "Screenshot from 2021-12-12 13-31-24.xml\n",
            "Screenshot from 2021-10-25 23-40-01.xml\n",
            "Screenshot from 2021-10-25 23-24-27.xml\n",
            "Screenshot from 2021-10-25 23-39-19.xml\n",
            "Screenshot from 2021-10-25 23-35-38.xml\n",
            "Screenshot from 2021-12-12 13-38-34.xml\n",
            "Screenshot from 2021-12-12 13-33-35.xml\n",
            "Screenshot from 2021-12-12 13-33-26.xml\n",
            "Screenshot from 2021-10-26 18-05-02.xml\n",
            "Screenshot from 2021-12-12 13-27-39.xml\n",
            "Screenshot from 2021-10-25 23-35-05.xml\n",
            "Screenshot from 2021-10-25 23-47-30.xml\n",
            "Screenshot from 2021-10-25 23-36-26.xml\n",
            "Screenshot from 2021-10-25 23-26-03.xml\n",
            "Screenshot from 2021-10-26 17-54-52.xml\n",
            "Screenshot from 2021-10-25 23-38-45.xml\n",
            "Screenshot from 2021-10-25 23-41-58.xml\n",
            "Screenshot from 2021-10-25 23-42-38.xml\n",
            "Screenshot from 2021-10-26 17-55-02.xml\n",
            "Screenshot from 2021-10-25 23-42-58.xml\n",
            "Screenshot from 2021-10-25 23-26-59.xml\n",
            "Screenshot from 2021-12-12 13-33-58.xml\n",
            "Screenshot from 2021-12-12 13-26-56.xml\n",
            "Screenshot from 2021-10-25 23-29-27.xml\n",
            "Screenshot from 2021-10-26 18-05-37.xml\n",
            "Screenshot from 2021-10-25 23-41-46.xml\n",
            "Screenshot from 2021-10-25 23-27-31.xml\n",
            "Screenshot from 2021-10-25 23-29-45.xml\n",
            "Screenshot from 2021-12-12 13-30-25.xml\n",
            "Screenshot from 2021-12-12 13-28-41.xml\n",
            "Screenshot from 2021-10-25 23-47-08.xml\n",
            "Screenshot from 2021-10-25 23-40-40.xml\n",
            "Screenshot from 2021-10-25 23-26-43.xml\n",
            "Screenshot from 2021-10-25 23-41-03.xml\n",
            "Screenshot from 2021-10-26 17-55-49.xml\n",
            "Screenshot from 2021-10-26 17-55-28.xml\n",
            "Screenshot from 2021-10-25 23-46-10.xml\n",
            "Screenshot from 2021-10-25 23-37-54.xml\n",
            "Screenshot from 2021-10-25 23-36-13.xml\n",
            "Screenshot from 2021-12-12 13-32-17.xml\n",
            "Screenshot from 2021-12-12 13-34-52.xml\n",
            "Screenshot from 2021-10-25 23-45-36.xml\n",
            "Screenshot from 2021-10-25 23-34-42.xml\n",
            "Screenshot from 2021-10-26 17-54-30.xml\n",
            "Screenshot from 2021-12-12 13-28-12.xml\n",
            "Screenshot from 2021-10-25 23-45-47.xml\n",
            "Screenshot from 2021-10-25 23-42-15.xml\n",
            "Screenshot from 2021-10-25 23-43-28.xml\n",
            "Screenshot from 2021-10-26 18-03-00.xml\n",
            "Screenshot from 2021-10-25 23-28-25.xml\n"
          ]
        }
      ]
    },
    {
      "cell_type": "code",
      "source": [
        "!ls"
      ],
      "metadata": {
        "colab": {
          "base_uri": "https://localhost:8080/"
        },
        "id": "akgdB-C8_B3C",
        "outputId": "1cc5d2e2-1fb9-4139-ad46-1b3d0198747f"
      },
      "execution_count": null,
      "outputs": [
        {
          "output_type": "stream",
          "name": "stdout",
          "text": [
            "100.xml  116.xml  131.xml  14.xml  2.xml   45.xml  60.xml  76.xml  91.xml\n",
            "101.xml  117.xml  132.xml  15.xml  30.xml  46.xml  61.xml  77.xml  92.xml\n",
            "102.xml  118.xml  133.xml  16.xml  31.xml  47.xml  62.xml  78.xml  93.xml\n",
            "103.xml  119.xml  134.xml  17.xml  32.xml  48.xml  63.xml  79.xml  94.xml\n",
            "104.xml  11.xml   135.xml  18.xml  33.xml  49.xml  64.xml  7.xml   95.xml\n",
            "105.xml  120.xml  136.xml  19.xml  34.xml  4.xml   65.xml  80.xml  96.xml\n",
            "106.xml  121.xml  137.xml  1.xml   35.xml  50.xml  66.xml  81.xml  97.xml\n",
            "107.xml  122.xml  138.xml  20.xml  36.xml  51.xml  67.xml  82.xml  98.xml\n",
            "108.xml  123.xml  139.xml  21.xml  37.xml  52.xml  68.xml  83.xml  99.xml\n",
            "109.xml  124.xml  13.xml   22.xml  38.xml  53.xml  69.xml  84.xml  9.xml\n",
            "10.xml\t 125.xml  140.xml  23.xml  39.xml  54.xml  6.xml   85.xml  sample_data\n",
            "110.xml  126.xml  141.xml  24.xml  3.xml   55.xml  70.xml  86.xml\n",
            "111.xml  127.xml  142.xml  25.xml  40.xml  56.xml  71.xml  87.xml\n",
            "112.xml  128.xml  143.xml  26.xml  41.xml  57.xml  72.xml  88.xml\n",
            "113.xml  129.xml  144.xml  27.xml  42.xml  58.xml  73.xml  89.xml\n",
            "114.xml  12.xml   145.xml  28.xml  43.xml  59.xml  74.xml  8.xml\n",
            "115.xml  130.xml  146.xml  29.xml  44.xml  5.xml   75.xml  90.xml\n"
          ]
        }
      ]
    },
    {
      "cell_type": "markdown",
      "source": [
        "### Concatenate all files"
      ],
      "metadata": {
        "id": "LSj8XbKzDt7s"
      }
    },
    {
      "cell_type": "code",
      "source": [
        "df_old = pd.read_xml('1.xml')"
      ],
      "metadata": {
        "id": "LMGUDvpohaOj"
      },
      "execution_count": null,
      "outputs": []
    },
    {
      "cell_type": "code",
      "source": [
        "len(dir_list)"
      ],
      "metadata": {
        "colab": {
          "base_uri": "https://localhost:8080/"
        },
        "id": "FI7-unnBA93U",
        "outputId": "b89e927b-aa89-4ce3-ed11-29eeca7027eb"
      },
      "execution_count": null,
      "outputs": [
        {
          "output_type": "execute_result",
          "data": {
            "text/plain": [
              "148"
            ]
          },
          "metadata": {},
          "execution_count": 5
        }
      ]
    },
    {
      "cell_type": "code",
      "source": [
        "i = 2\n",
        "for files in dir_list:\n",
        "  if files.endswith(\".xml\"):\n",
        "    print(files)\n",
        "    df_read = pd.read_xml(str(i) + '.xml')\n",
        "    df_new = df_read\n",
        "    result = pd.concat([df_old,df_new], axis=0,ignore_index=True, sort=False)\n",
        "    df_old = result\n",
        "    i+=1"
      ],
      "metadata": {
        "colab": {
          "base_uri": "https://localhost:8080/",
          "height": 1000
        },
        "id": "zqiXb67gWTEn",
        "outputId": "dc247403-bab8-466e-9ed0-df16d5016d10"
      },
      "execution_count": null,
      "outputs": [
        {
          "output_type": "stream",
          "name": "stdout",
          "text": [
            "Screenshot from 2021-10-25 23-45-59.xml\n",
            "Screenshot from 2021-10-25 23-40-30.xml\n",
            "Screenshot from 2021-10-25 23-38-09.xml\n",
            "Screenshot from 2021-12-12 13-33-45.xml\n",
            "Screenshot from 2021-10-25 23-43-14.xml\n",
            "Screenshot from 2021-10-25 23-34-05.xml\n",
            "Screenshot from 2021-10-25 23-39-47.xml\n",
            "Screenshot from 2021-12-12 13-35-06.xml\n",
            "Screenshot from 2021-10-25 23-33-43.xml\n",
            "Screenshot from 2021-12-12 13-34-32.xml\n",
            "Screenshot from 2021-10-25 23-28-13.xml\n",
            "Screenshot from 2021-10-25 23-45-18.xml\n",
            "Screenshot from 2021-10-25 23-47-50.xml\n",
            "Screenshot from 2021-12-12 13-34-22.xml\n",
            "Screenshot from 2021-10-25 23-48-15.xml\n",
            "Screenshot from 2021-10-25 23-46-30.xml\n",
            "Screenshot from 2021-12-12 13-31-12.xml\n",
            "Screenshot from 2021-12-12 13-35-43.xml\n",
            "Screenshot from 2021-10-25 23-29-15.xml\n",
            "Screenshot from 2021-10-25 23-30-37.xml\n",
            "Screenshot from 2021-10-25 23-42-25.xml\n",
            "Screenshot from 2021-10-25 23-46-20.xml\n",
            "Screenshot from 2021-12-12 13-32-30.xml\n",
            "Screenshot from 2021-10-25 23-27-42.xml\n",
            "Screenshot from 2021-10-25 23-40-14.xml\n",
            "Screenshot from 2021-10-25 23-35-16.xml\n",
            "Screenshot from 2021-10-25 23-44-16.xml\n",
            "Screenshot from 2021-10-26 17-56-08.xml\n",
            "Screenshot from 2021-10-25 23-39-35.xml\n",
            "Screenshot from 2021-12-12 13-30-47.xml\n",
            "Screenshot from 2021-10-26 18-05-20.xml\n",
            "Screenshot from 2021-10-25 23-48-23.xml\n",
            "Screenshot from 2021-10-25 23-46-42.xml\n",
            "Screenshot from 2021-12-12 13-29-05.xml\n",
            "Screenshot from 2021-10-25 23-46-57.xml\n",
            "Screenshot from 2021-10-25 23-36-43.xml\n",
            "Screenshot from 2021-10-25 23-30-25.xml\n",
            "Screenshot from 2021-10-26 18-04-11.xml\n",
            "Screenshot from 2021-10-25 23-34-16.xml\n",
            "Screenshot from 2021-10-25 23-38-23.xml\n",
            "Screenshot from 2021-10-25 23-39-02.xml\n",
            "Screenshot from 2021-10-25 23-41-37.xml\n",
            "Screenshot from 2021-10-26 18-03-10.xml\n",
            "Screenshot from 2021-10-25 23-30-11.xml\n",
            "Screenshot from 2021-12-12 13-29-35.xml\n",
            "Screenshot from 2021-10-25 23-33-54.xml\n",
            "Screenshot from 2021-10-26 18-03-28.xml\n",
            "Screenshot from 2021-10-25 23-35-57.xml\n",
            "Screenshot from 2021-12-12 13-29-51.xml\n",
            "Screenshot from 2021-10-25 23-33-12.xml\n",
            "Screenshot from 2021-12-12 13-35-19.xml\n",
            "Screenshot from 2021-10-26 18-03-58.xml\n",
            "Screenshot from 2021-10-25 23-48-06.xml\n",
            "Screenshot from 2021-10-25 23-28-01.xml\n",
            "Screenshot from 2021-10-25 23-28-38.xml\n",
            "Screenshot from 2021-10-25 23-43-55.xml\n",
            "Screenshot from 2021-12-12 13-28-27.xml\n",
            "Screenshot from 2021-10-25 23-48-36.xml\n",
            "Screenshot from 2021-10-25 23-47-20.xml\n",
            "Screenshot from 2021-10-26 18-03-42.xml\n",
            "Screenshot from 2021-12-12 13-32-53.xml\n",
            "Screenshot from 2021-10-25 23-35-27.xml\n",
            "Screenshot from 2021-10-25 23-27-16.xml\n",
            "Screenshot from 2021-12-12 13-37-27.xml\n",
            "Screenshot from 2021-10-26 18-04-28.xml\n",
            "Screenshot from 2021-12-12 13-30-34.xml\n",
            "Screenshot from 2021-10-25 23-29-05.xml\n",
            "Screenshot from 2021-10-25 23-30-53.xml\n",
            "Screenshot from 2021-12-12 13-27-59.xml\n",
            "Screenshot from 2021-12-12 13-30-58.xml\n",
            "Screenshot from 2021-12-12 13-34-42.xml\n",
            "Screenshot from 2021-10-25 23-41-27.xml\n",
            "Screenshot from 2021-12-12 13-38-43.xml\n",
            "Screenshot from 2021-10-25 23-25-40.xml\n",
            "Screenshot from 2021-10-25 23-48-58.xml\n",
            "Screenshot from 2021-10-25 23-41-15.xml\n",
            "Screenshot from 2021-12-12 13-28-52.xml\n",
            "Screenshot from 2021-10-26 18-05-48.xml\n",
            "Screenshot from 2021-10-25 23-33-32.xml\n",
            "Screenshot from 2021-12-12 13-35-31.xml\n",
            "Screenshot from 2021-10-25 23-40-52.xml\n",
            "Screenshot from 2021-10-25 23-28-48.xml\n",
            "Screenshot from 2021-12-12 13-36-05.xml\n",
            "Screenshot from 2021-12-12 13-29-21.xml\n",
            "Screenshot from 2021-10-25 23-34-53.xml\n",
            "Screenshot from 2021-10-25 23-26-19.xml\n",
            "Screenshot from 2021-10-25 23-34-28.xml\n",
            "Screenshot from 2021-10-25 23-37-16.xml\n",
            "Screenshot from 2021-10-25 23-48-46.xml\n",
            "Screenshot from 2021-12-12 13-33-03.xml\n",
            "Screenshot from 2021-10-25 23-43-38.xml\n",
            "Screenshot from 2021-12-12 13-33-17.xml\n",
            "Screenshot from 2021-10-25 23-37-03.xml\n",
            "Screenshot from 2021-12-12 13-30-04.xml\n",
            "Screenshot from 2021-12-12 13-35-56.xml\n",
            "Screenshot from 2021-12-12 13-34-11.xml\n",
            "Screenshot from 2021-12-12 13-31-24.xml\n",
            "Screenshot from 2021-10-25 23-40-01.xml\n",
            "Screenshot from 2021-10-25 23-24-27.xml\n",
            "Screenshot from 2021-10-25 23-39-19.xml\n",
            "Screenshot from 2021-10-25 23-35-38.xml\n",
            "Screenshot from 2021-12-12 13-38-34.xml\n",
            "Screenshot from 2021-12-12 13-33-35.xml\n",
            "Screenshot from 2021-12-12 13-33-26.xml\n",
            "Screenshot from 2021-10-26 18-05-02.xml\n",
            "Screenshot from 2021-12-12 13-27-39.xml\n",
            "Screenshot from 2021-10-25 23-35-05.xml\n",
            "Screenshot from 2021-10-25 23-47-30.xml\n",
            "Screenshot from 2021-10-25 23-36-26.xml\n",
            "Screenshot from 2021-10-25 23-26-03.xml\n",
            "Screenshot from 2021-10-26 17-54-52.xml\n",
            "Screenshot from 2021-10-25 23-38-45.xml\n",
            "Screenshot from 2021-10-25 23-41-58.xml\n",
            "Screenshot from 2021-10-25 23-42-38.xml\n",
            "Screenshot from 2021-10-26 17-55-02.xml\n",
            "Screenshot from 2021-10-25 23-42-58.xml\n",
            "Screenshot from 2021-10-25 23-26-59.xml\n",
            "Screenshot from 2021-12-12 13-33-58.xml\n",
            "Screenshot from 2021-12-12 13-26-56.xml\n",
            "Screenshot from 2021-10-25 23-29-27.xml\n",
            "Screenshot from 2021-10-26 18-05-37.xml\n",
            "Screenshot from 2021-10-25 23-41-46.xml\n",
            "Screenshot from 2021-10-25 23-27-31.xml\n",
            "Screenshot from 2021-10-25 23-29-45.xml\n",
            "Screenshot from 2021-12-12 13-30-25.xml\n",
            "Screenshot from 2021-12-12 13-28-41.xml\n",
            "Screenshot from 2021-10-25 23-47-08.xml\n",
            "Screenshot from 2021-10-25 23-40-40.xml\n",
            "Screenshot from 2021-10-25 23-26-43.xml\n",
            "Screenshot from 2021-10-25 23-41-03.xml\n",
            "Screenshot from 2021-10-26 17-55-49.xml\n",
            "Screenshot from 2021-10-26 17-55-28.xml\n",
            "Screenshot from 2021-10-25 23-46-10.xml\n",
            "Screenshot from 2021-10-25 23-37-54.xml\n",
            "Screenshot from 2021-10-25 23-36-13.xml\n",
            "Screenshot from 2021-12-12 13-32-17.xml\n",
            "Screenshot from 2021-12-12 13-34-52.xml\n",
            "Screenshot from 2021-10-25 23-45-36.xml\n",
            "Screenshot from 2021-10-25 23-34-42.xml\n",
            "Screenshot from 2021-10-26 17-54-30.xml\n",
            "Screenshot from 2021-12-12 13-28-12.xml\n",
            "Screenshot from 2021-10-25 23-45-47.xml\n",
            "Screenshot from 2021-10-25 23-42-15.xml\n",
            "Screenshot from 2021-10-25 23-43-28.xml\n",
            "Screenshot from 2021-10-26 18-03-00.xml\n",
            "Screenshot from 2021-10-25 23-28-25.xml\n"
          ]
        },
        {
          "output_type": "error",
          "ename": "XMLSyntaxError",
          "evalue": "ignored",
          "traceback": [
            "\u001b[0;36m  File \u001b[0;32m\"<string>\"\u001b[0;36m, line \u001b[0;32m1\u001b[0m\n\u001b[0;31mXMLSyntaxError\u001b[0m\u001b[0;31m:\u001b[0m Start tag expected, '<' not found, line 1, column 1\n"
          ]
        }
      ]
    },
    {
      "cell_type": "markdown",
      "source": [
        "### Verify count and Plot a graph"
      ],
      "metadata": {
        "id": "E2E2T3iXD3eS"
      }
    },
    {
      "cell_type": "code",
      "source": [
        "result.filename.count()"
      ],
      "metadata": {
        "colab": {
          "base_uri": "https://localhost:8080/"
        },
        "id": "ckIv28gdCXnN",
        "outputId": "00941f8f-dd92-4573-b122-2c00d021ceb1"
      },
      "execution_count": null,
      "outputs": [
        {
          "output_type": "execute_result",
          "data": {
            "text/plain": [
              "146"
            ]
          },
          "metadata": {},
          "execution_count": 19
        }
      ]
    },
    {
      "cell_type": "code",
      "source": [
        "# result['filename'].unique()"
      ],
      "metadata": {
        "id": "_0WiLbuB8IXK"
      },
      "execution_count": null,
      "outputs": []
    },
    {
      "cell_type": "code",
      "source": [
        "result.shape"
      ],
      "metadata": {
        "colab": {
          "base_uri": "https://localhost:8080/"
        },
        "id": "9e3sshG8_7dk",
        "outputId": "e1a97cd1-9152-405a-e164-cd0ac8a2b65a"
      },
      "execution_count": null,
      "outputs": [
        {
          "output_type": "execute_result",
          "data": {
            "text/plain": [
              "(3151, 13)"
            ]
          },
          "metadata": {},
          "execution_count": 21
        }
      ]
    },
    {
      "cell_type": "code",
      "source": [
        "result['name'].hist()"
      ],
      "metadata": {
        "colab": {
          "base_uri": "https://localhost:8080/",
          "height": 285
        },
        "id": "KrKcgekl8sGK",
        "outputId": "7eca25ff-c820-484a-b962-90b02bb0ec57"
      },
      "execution_count": null,
      "outputs": [
        {
          "output_type": "execute_result",
          "data": {
            "text/plain": [
              "<matplotlib.axes._subplots.AxesSubplot at 0x7f2421aad410>"
            ]
          },
          "metadata": {},
          "execution_count": 24
        },
        {
          "output_type": "display_data",
          "data": {
            "text/plain": [
              "<Figure size 432x288 with 1 Axes>"
            ],
            "image/png": "[encoded data removed]"
          },
          "metadata": {
            "needs_background": "light"
          }
        }
      ]
    },
    {
      "cell_type": "code",
      "source": [
        ""
      ],
      "metadata": {
        "id": "Up-nUWk3w6XL"
      },
      "execution_count": null,
      "outputs": []
    }
  ]
}